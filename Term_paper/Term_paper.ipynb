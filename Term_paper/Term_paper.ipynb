{
 "cells": [
  {
   "cell_type": "markdown",
   "id": "fc9cfe5d",
   "metadata": {},
   "source": [
    "# Golomovzyi Viktor SA-32"
   ]
  },
  {
   "cell_type": "code",
   "execution_count": 1,
   "id": "9c011c61",
   "metadata": {},
   "outputs": [],
   "source": [
    "import os\n",
    "import re\n",
    "import csv\n",
    "import pandas as pd"
   ]
  },
  {
   "cell_type": "markdown",
   "id": "f8b4db7e",
   "metadata": {},
   "source": [
    "## Dataset Combining"
   ]
  },
  {
   "cell_type": "markdown",
   "id": "8c736294",
   "metadata": {},
   "source": [
    "### Data concatenating"
   ]
  },
  {
   "cell_type": "code",
   "execution_count": 2,
   "id": "532f0b2e",
   "metadata": {},
   "outputs": [],
   "source": [
    "def standartize(df, column_map):\n",
    "    \"\"\"\n",
    "    Standartize all column names.\n",
    "\n",
    "    Args:\n",
    "        df (DataFrame): DataFrame with raw data.\n",
    "        column_map (Dict): Dictionary with standartized names.\n",
    "\n",
    "    Returns:\n",
    "        DataFrame: DataFrame with standartized column names.\n",
    "    \"\"\"\n",
    "    standartized_columns = {}\n",
    "    for col in df.columns:\n",
    "        standartized_columns[col] = column_map.get(col, col)\n",
    "        \n",
    "    df.rename(columns = standartized_columns, inplace = True)\n",
    "\n",
    "    return df"
   ]
  },
  {
   "cell_type": "code",
   "execution_count": 3,
   "id": "42063610",
   "metadata": {},
   "outputs": [],
   "source": [
    "def detect_csv_format(file_path):\n",
    "    \"\"\"Detects various separators with built in python csv module.\n",
    "\n",
    "    Args:\n",
    "        file_path (str): Path to the DataFrame file.\n",
    "    \n",
    "    Returns:\n",
    "        Dict: Dictionary with specified separator.\n",
    "    \"\"\"\n",
    "    with open(file_path, 'r', encoding = 'utf-8') as file:\n",
    "        sample = file.read(2048)\n",
    "        sniffer = csv.Sniffer()\n",
    "        dialect = sniffer.sniff(sample)\n",
    "\n",
    "        return{'delimiter': dialect.delimiter, 'quotechar': dialect.quotechar}"
   ]
  },
  {
   "cell_type": "code",
   "execution_count": null,
   "id": "2557a576",
   "metadata": {},
   "outputs": [],
   "source": [
    "def preprocess(in_folder):\n",
    "    \"\"\"Mapping, renaming and standartizing columns in files.\n",
    "\n",
    "    Args:\n",
    "        in_folder (str): Input folder which contains data to preprocess.\n",
    "    \"\"\"\n",
    "\n",
    "    concatenated_data = []\n",
    "\n",
    "    column_map = {\n",
    "        \"Зарплата за місяць, net, після податків\" : 'Salary',\n",
    "        \"Зарплата в месяц\": 'Salary',\n",
    "        \"Зарплата у $$$ за місяць, лише ставка після сплати податків\": 'Salary',\n",
    "        \"Зарплата.в.месяц\": 'Salary',\n",
    "        \"salary\": 'Salary',\n",
    "        \"\"\"Зарплата / дохід у $$$ за місяць, лише ставка \n",
    "ЧИСТИМИ - після сплати податків\"\"\": 'Salary,',\n",
    "        \"Зарплата / дохід у $$$ за місяць, лише ставка після сплати податків\": 'Salary',\n",
    "\n",
    "        \"Оберіть вашу посаду\": 'Position',\n",
    "        \"Должность\": 'Position',\n",
    "        \"position\": 'Position',\n",
    "        \"Оберіть вашу основну посаду\": 'Position',\n",
    "        \"Спеціалізація\": 'Position',\n",
    "        \"Position\": 'Position',\n",
    "\n",
    "        \"Загальний стаж роботи за спеціальністю\": 'Global_exp',\n",
    "        \"Стаж на поточному місці роботи\": 'Local_exp',\n",
    "        \"Общий опыт работы\": 'Global_exp',\n",
    "        \"Опыт работы на текущем месте\": 'Local_exp',\n",
    "        \"exp\": 'Global_exp',\n",
    "        \"current_job_exp\": 'Local_exp',\n",
    "        \"Загальний стаж роботи в ІТ\": 'Global_exp',\n",
    "        \"Загальний стаж роботи за нинішньою спеціалізацією\": 'Global_exp',\n",
    "        \"Загальний стаж роботи за нинішньою ІТ-спеціальністю\": 'Local_exp',\n",
    "        \"experience\": 'Global_exp',\n",
    "        \"Ваш тайтл\": 'Seniority',\n",
    "        \"Ваш тайтл на цій посаді\": 'Seniority',\n",
    "        \"Оберіть ваш тайтл або роль у компанії\": 'Seniority',\n",
    "    }\n",
    "\n",
    "    in_files = [file for file in os.listdir(in_folder) if file.endswith('.csv')]\n",
    "    in_files = sorted(in_files, key = lambda x: int(re.search(r'\\d+', x).group()))\n",
    "\n",
    "    for file in in_files:\n",
    "        match = re.search(r'(\\d{4})_(\\w+)_.*\\.csv', file)\n",
    "        year, month = match.groups()\n",
    "        year = int(year)\n",
    "        if month.lower() in ['jan', 'feb', 'mar', 'apr', 'may', 'jun', 'june']:\n",
    "            half_year = f\"{year}_H1\"\n",
    "        else:\n",
    "            half_year = f\"{year}_H2\"\n",
    "        path = os.path.join(in_folder, file)\n",
    "        try:\n",
    "            if half_year in ['2021_H2', '2022_H2', '2023_H1']:\n",
    "                csv_format = {'delimiter': ';', 'quotechar': '\"'}\n",
    "            else:\n",
    "                csv_format = detect_csv_format(path)\n",
    "\n",
    "            df = pd.read_csv(path, on_bad_lines='skip', **csv_format)\n",
    "\n",
    "            if half_year == \"2022_H1\":\n",
    "                df = df[~((df.get(\"city\") == \"Всі міста\") | (df.get(\"experience\") == \"Весь досвід\"))]\n",
    "            \n",
    "            df.dropna(how='all', inplace = True)\n",
    "\n",
    "            df = standartize(df, column_map)\n",
    "\n",
    "            df['Period'] = half_year\n",
    "            df = df.loc[:, ~df.columns.duplicated()]\n",
    "            concatenated_data.append(df)\n",
    "\n",
    "        except Exception as e:\n",
    "            print(f\"Error processing {file}: {e}\")\n",
    "        continue\n",
    "\n",
    "    concat_df = pd.concat(concatenated_data, ignore_index = True)\n",
    "    columns = ['Period', 'Position', 'Seniority', 'Global_exp', 'Local_exp', 'Salary']\n",
    "    concat_df = concat_df[columns]\n",
    "    concat_df.to_csv(\"concat_salary.csv\", index = False)"
   ]
  },
  {
   "cell_type": "code",
   "execution_count": null,
   "id": "282fd956",
   "metadata": {},
   "outputs": [
    {
     "name": "stdout",
     "output_type": "stream",
     "text": [
      "Preprocessing files in salary_raw\n",
      "Preprocess ended\n"
     ]
    }
   ],
   "source": [
    "def main(preprocess):\n",
    "    \"\"\"Main function to run the preprocess.\n",
    "\n",
    "    Args:\n",
    "        preprocess (func): Function that preprocesses the data from files.\n",
    "    \"\"\"\n",
    "    print('Preprocessing files in salary_raw')\n",
    "    preprocess(\"salary_raw\")\n",
    "    print('Preprocess ended')\n",
    "\n",
    "\n",
    "if __name__ == '__main__':\n",
    "    main(preprocess)"
   ]
  }
 ],
 "metadata": {
  "kernelspec": {
   "display_name": "Python 3",
   "language": "python",
   "name": "python3"
  },
  "language_info": {
   "codemirror_mode": {
    "name": "ipython",
    "version": 3
   },
   "file_extension": ".py",
   "mimetype": "text/x-python",
   "name": "python",
   "nbconvert_exporter": "python",
   "pygments_lexer": "ipython3",
   "version": "3.12.10"
  }
 },
 "nbformat": 4,
 "nbformat_minor": 5
}
